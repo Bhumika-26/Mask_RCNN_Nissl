{
 "cells": [
  {
   "cell_type": "code",
   "execution_count": 10,
   "id": "34f1b67e",
   "metadata": {},
   "outputs": [],
   "source": [
    "from skimage.io import imread\n",
    "from skimage import measure\n",
    "import numpy as np\n",
    "from matplotlib import pyplot as plt"
   ]
  },
  {
   "cell_type": "code",
   "execution_count": 2,
   "id": "c16727bf",
   "metadata": {},
   "outputs": [],
   "source": [
    "datadir = '/data/FB10_data/stage1_train/'"
   ]
  },
  {
   "cell_type": "code",
   "execution_count": 78,
   "id": "6d3d22b9",
   "metadata": {},
   "outputs": [],
   "source": [
    "from skimage.segmentation import (\n",
    "    watershed, relabel_sequential, \n",
    "    find_boundaries\n",
    ")\n",
    "\n",
    "import scipy\n",
    "from skimage.feature import peak_local_max\n",
    "def label_watershed(fgmask):\n",
    "    \n",
    "    distance = scipy.ndimage.distance_transform_edt(fgmask)\n",
    "    coords = peak_local_max(distance, min_distance=11, footprint=np.ones((7, 7)))\n",
    "    mask = np.zeros(distance.shape, dtype=bool)\n",
    "    mask[tuple(coords.T)] = True\n",
    "    markers, _ = scipy.ndimage.label(mask)\n",
    "    return watershed(-distance, markers, mask=fgmask)"
   ]
  },
  {
   "cell_type": "code",
   "execution_count": 115,
   "id": "e7b7145a",
   "metadata": {},
   "outputs": [],
   "source": [
    "im = imread(datadir+'/images/17188.png')\n",
    "annot = imread(datadir+'/masks/17188_annotated.png')"
   ]
  },
  {
   "cell_type": "code",
   "execution_count": 168,
   "id": "8c0cfd67",
   "metadata": {},
   "outputs": [],
   "source": [
    "colors = [(0,0,255),(0,255,0),(148,0,211),(75,0,130),(255,255,0),(255,127,0),(255,0,0)]"
   ]
  },
  {
   "cell_type": "code",
   "execution_count": 169,
   "id": "76e86922",
   "metadata": {},
   "outputs": [],
   "source": [
    "sz = annot.shape"
   ]
  },
  {
   "cell_type": "code",
   "execution_count": 170,
   "id": "76d938a0",
   "metadata": {},
   "outputs": [],
   "source": [
    "annot_labelmap = np.zeros(sz[:-1],np.uint8)"
   ]
  },
  {
   "cell_type": "code",
   "execution_count": 179,
   "id": "46271abf",
   "metadata": {},
   "outputs": [
    {
     "name": "stdout",
     "output_type": "stream",
     "text": [
      "0 0\n",
      "1 27\n",
      "2 39\n",
      "3 32\n",
      "4 0\n",
      "5 0\n",
      "6 0\n"
     ]
    }
   ],
   "source": [
    "big_o={}\n",
    "cell_masks = []\n",
    "for ii,clr in enumerate(colors):\n",
    "    mask = (annot[...,0]==clr[0]) & (annot[...,1]==clr[1]) & (annot[...,2]==clr[2])\n",
    "#     plt.imshow(mask)\n",
    "#     plt.show()\n",
    "    msk_lbl = measure.label(mask)\n",
    "    print(ii,msk_lbl.max())\n",
    "    # regionprops etc\n",
    "    props = measure.regionprops_table(msk_lbl,im[...,0],properties=('label','area','bbox_area'))\n",
    "    big_o[ii] = props['label'][np.where(props['area']>100)]\n",
    "    \n",
    "    \n",
    "    for jj in range(1,msk_lbl.max()+1):\n",
    "        if jj not in big_o[ii]:\n",
    "            cell_masks.append(msk_lbl==jj)\n",
    "\n",
    "        else:\n",
    "            # split            \n",
    "            newlbl = label_watershed(msk_lbl==jj)\n",
    "            for ll in range(1,newlbl.max()+1):\n",
    "                cell_masks.append(newlbl==ll)\n",
    "                    \n",
    "# #     markers = cv2.drawContours(markers, [cnt], -1, i+1, cv2.FILLED)\n",
    "#     if len( big_o[ii])>0:\n",
    "#         continue"
   ]
  },
  {
   "cell_type": "code",
   "execution_count": 180,
   "id": "11bc0cda",
   "metadata": {},
   "outputs": [
    {
     "data": {
      "text/plain": [
       "131"
      ]
     },
     "execution_count": 180,
     "metadata": {},
     "output_type": "execute_result"
    }
   ],
   "source": [
    "len(cell_masks)"
   ]
  },
  {
   "cell_type": "code",
   "execution_count": 185,
   "id": "d9363e22",
   "metadata": {},
   "outputs": [
    {
     "data": {
      "text/plain": [
       "512"
      ]
     },
     "execution_count": 185,
     "metadata": {},
     "output_type": "execute_result"
    }
   ],
   "source": [
    "np.array(cell_masks).shape[-1]"
   ]
  },
  {
   "cell_type": "code",
   "execution_count": 186,
   "id": "0fe6680f",
   "metadata": {},
   "outputs": [
    {
     "data": {
      "text/plain": [
       "array([1., 1., 1., 1., 1., 1., 1., 1., 1., 1., 1., 1., 1., 1., 1., 1., 1.,\n",
       "       1., 1., 1., 1., 1., 1., 1., 1., 1., 1., 1., 1., 1., 1., 1., 1., 1.,\n",
       "       1., 1., 1., 1., 1., 1., 1., 1., 1., 1., 1., 1., 1., 1., 1., 1., 1.,\n",
       "       1., 1., 1., 1., 1., 1., 1., 1., 1., 1., 1., 1., 1., 1., 1., 1., 1.,\n",
       "       1., 1., 1., 1., 1., 1., 1., 1., 1., 1., 1., 1., 1., 1., 1., 1., 1.,\n",
       "       1., 1., 1., 1., 1., 1., 1., 1., 1., 1., 1., 1., 1., 1., 1., 1., 1.,\n",
       "       1., 1., 1., 1., 1., 1., 1., 1., 1., 1., 1., 1., 1., 1., 1., 1., 1.,\n",
       "       1., 1., 1., 1., 1., 1., 1., 1., 1., 1., 1., 1., 1., 1., 1., 1., 1.,\n",
       "       1., 1., 1., 1., 1., 1., 1., 1., 1., 1., 1., 1., 1., 1., 1., 1., 1.,\n",
       "       1., 1., 1., 1., 1., 1., 1., 1., 1., 1., 1., 1., 1., 1., 1., 1., 1.,\n",
       "       1., 1., 1., 1., 1., 1., 1., 1., 1., 1., 1., 1., 1., 1., 1., 1., 1.,\n",
       "       1., 1., 1., 1., 1., 1., 1., 1., 1., 1., 1., 1., 1., 1., 1., 1., 1.,\n",
       "       1., 1., 1., 1., 1., 1., 1., 1., 1., 1., 1., 1., 1., 1., 1., 1., 1.,\n",
       "       1., 1., 1., 1., 1., 1., 1., 1., 1., 1., 1., 1., 1., 1., 1., 1., 1.,\n",
       "       1., 1., 1., 1., 1., 1., 1., 1., 1., 1., 1., 1., 1., 1., 1., 1., 1.,\n",
       "       1., 1., 1., 1., 1., 1., 1., 1., 1., 1., 1., 1., 1., 1., 1., 1., 1.,\n",
       "       1., 1., 1., 1., 1., 1., 1., 1., 1., 1., 1., 1., 1., 1., 1., 1., 1.,\n",
       "       1., 1., 1., 1., 1., 1., 1., 1., 1., 1., 1., 1., 1., 1., 1., 1., 1.,\n",
       "       1., 1., 1., 1., 1., 1., 1., 1., 1., 1., 1., 1., 1., 1., 1., 1., 1.,\n",
       "       1., 1., 1., 1., 1., 1., 1., 1., 1., 1., 1., 1., 1., 1., 1., 1., 1.,\n",
       "       1., 1., 1., 1., 1., 1., 1., 1., 1., 1., 1., 1., 1., 1., 1., 1., 1.,\n",
       "       1., 1., 1., 1., 1., 1., 1., 1., 1., 1., 1., 1., 1., 1., 1., 1., 1.,\n",
       "       1., 1., 1., 1., 1., 1., 1., 1., 1., 1., 1., 1., 1., 1., 1., 1., 1.,\n",
       "       1., 1., 1., 1., 1., 1., 1., 1., 1., 1., 1., 1., 1., 1., 1., 1., 1.,\n",
       "       1., 1., 1., 1., 1., 1., 1., 1., 1., 1., 1., 1., 1., 1., 1., 1., 1.,\n",
       "       1., 1., 1., 1., 1., 1., 1., 1., 1., 1., 1., 1., 1., 1., 1., 1., 1.,\n",
       "       1., 1., 1., 1., 1., 1., 1., 1., 1., 1., 1., 1., 1., 1., 1., 1., 1.,\n",
       "       1., 1., 1., 1., 1., 1., 1., 1., 1., 1., 1., 1., 1., 1., 1., 1., 1.,\n",
       "       1., 1., 1., 1., 1., 1., 1., 1., 1., 1., 1., 1., 1., 1., 1., 1., 1.,\n",
       "       1., 1., 1., 1., 1., 1., 1., 1., 1., 1., 1., 1., 1., 1., 1., 1., 1.,\n",
       "       1., 1.])"
      ]
     },
     "execution_count": 186,
     "metadata": {},
     "output_type": "execute_result"
    }
   ],
   "source": [
    "np.ones(512)"
   ]
  },
  {
   "cell_type": "code",
   "execution_count": 183,
   "id": "6a39dc27",
   "metadata": {},
   "outputs": [
    {
     "data": {
      "text/plain": [
       "<matplotlib.image.AxesImage at 0x7f23c3840860>"
      ]
     },
     "execution_count": 183,
     "metadata": {},
     "output_type": "execute_result"
    },
    {
     "data": {
      "image/png": "[encoded data removed]",
      "text/plain": [
       "<Figure size 432x288 with 1 Axes>"
      ]
     },
     "metadata": {
      "needs_background": "light"
     },
     "output_type": "display_data"
    }
   ],
   "source": [
    "plt.imshow(cell_masks[65])"
   ]
  },
  {
   "cell_type": "code",
   "execution_count": null,
   "id": "c2299cd0",
   "metadata": {},
   "outputs": [],
   "source": [
    "max"
   ]
  },
  {
   "cell_type": "code",
   "execution_count": 178,
   "id": "e3fb4ff1",
   "metadata": {},
   "outputs": [
    {
     "data": {
      "text/plain": [
       "{0: array([], dtype=int64),\n",
       " 1: array([ 1,  3,  4,  5,  6,  7,  8,  9, 10, 11, 12, 13, 14, 15, 16, 17, 18,\n",
       "        19, 21, 22, 23, 25, 26]),\n",
       " 2: array([ 1,  3,  7,  8, 15, 17, 18, 21, 29, 30, 32, 34, 35]),\n",
       " 3: array([ 2,  7,  8,  9, 15, 18, 19, 21, 24, 25, 27, 29, 31]),\n",
       " 4: array([], dtype=int64),\n",
       " 5: array([], dtype=int64),\n",
       " 6: array([], dtype=int64)}"
      ]
     },
     "execution_count": 178,
     "metadata": {},
     "output_type": "execute_result"
    }
   ],
   "source": [
    "big_o"
   ]
  },
  {
   "cell_type": "code",
   "execution_count": null,
   "id": "91c361ff",
   "metadata": {},
   "outputs": [],
   "source": [
    "# plt.figure(figsize=(512//72,512//72))\n",
    "# msk_c = annot[...,0]==148\n",
    "# msk_lbl = measure.label(msk_c)\n",
    "ndimage.label(annot)\n",
    "# mask = (annot[...,0]==14) & (annot[...,1]==clr[1]) & (annot[...,2]==clr[2])\n",
    "# plt.imshow(mask==17)\n",
    "# # plt.colorbar()"
   ]
  },
  {
   "cell_type": "code",
   "execution_count": null,
   "id": "f53b050e",
   "metadata": {},
   "outputs": [],
   "source": []
  },
  {
   "cell_type": "code",
   "execution_count": 116,
   "id": "478b14cc",
   "metadata": {},
   "outputs": [],
   "source": [
    "colors = np.unique(annot)"
   ]
  },
  {
   "cell_type": "code",
   "execution_count": 117,
   "id": "376d60d9",
   "metadata": {},
   "outputs": [
    {
     "data": {
      "text/plain": [
       "array([  0,  75, 130, 148, 211, 255], dtype=uint8)"
      ]
     },
     "execution_count": 117,
     "metadata": {},
     "output_type": "execute_result"
    }
   ],
   "source": [
    "colors"
   ]
  },
  {
   "cell_type": "code",
   "execution_count": 141,
   "id": "bdf89db2",
   "metadata": {},
   "outputs": [
    {
     "data": {
      "text/plain": [
       "<matplotlib.image.AxesImage at 0x7f23c4175518>"
      ]
     },
     "execution_count": 141,
     "metadata": {},
     "output_type": "execute_result"
    },
    {
     "data": {
      "image/png": "[encoded data removed]",
      "text/plain": [
       "<Figure size 432x288 with 1 Axes>"
      ]
     },
     "metadata": {
      "needs_background": "light"
     },
     "output_type": "display_data"
    }
   ],
   "source": [
    "plt.imshow(annot[...,])"
   ]
  },
  {
   "cell_type": "code",
   "execution_count": 130,
   "id": "55914396",
   "metadata": {},
   "outputs": [],
   "source": [
    "bigobjects = {}\n",
    "for color in colors[1:]:\n",
    "    msk_c = (annot[...,0] == color)\n",
    "    msk_lbl = measure.label(msk_c)\n",
    "    # regionprops etc\n",
    "    props = measure.regionprops_table(msk_lbl,im[...,0],properties=('label','area','bbox_area'))\n",
    "    bigobjects[color] = props['label'][np.where(props['area']>130)]\n",
    "    if len(bigobjects[color])>0:\n",
    "        continue"
   ]
  },
  {
   "cell_type": "code",
   "execution_count": 127,
   "id": "3396e191",
   "metadata": {},
   "outputs": [
    {
     "data": {
      "text/plain": [
       "{75: array([ 8, 18, 19, 31]),\n",
       " 130: array([], dtype=int64),\n",
       " 148: array([ 7,  8, 15, 17]),\n",
       " 211: array([], dtype=int64),\n",
       " 255: array([], dtype=int64)}"
      ]
     },
     "execution_count": 127,
     "metadata": {},
     "output_type": "execute_result"
    }
   ],
   "source": [
    "bigobjects"
   ]
  },
  {
   "cell_type": "code",
   "execution_count": 136,
   "id": "9b36f080",
   "metadata": {},
   "outputs": [
    {
     "data": {
      "text/plain": [
       "<matplotlib.image.AxesImage at 0x7f23c4661b38>"
      ]
     },
     "execution_count": 136,
     "metadata": {},
     "output_type": "execute_result"
    },
    {
     "data": {
      "image/png": "[encoded data removed]",
      "text/plain": [
       "<Figure size 504x504 with 1 Axes>"
      ]
     },
     "metadata": {
      "needs_background": "light"
     },
     "output_type": "display_data"
    }
   ],
   "source": [
    "plt.figure(figsize=(512//72,512//72))\n",
    "msk_c = annot[...,0]==148\n",
    "msk_lbl = measure.label(msk_c)\n",
    "plt.imshow(msk_lbl==7)\n",
    "# plt.colorbar()"
   ]
  },
  {
   "cell_type": "code",
   "execution_count": 138,
   "id": "785993ed",
   "metadata": {},
   "outputs": [],
   "source": [
    "newlbl = label_watershed(msk_lbl==7)"
   ]
  },
  {
   "cell_type": "code",
   "execution_count": 139,
   "id": "61bea2f2",
   "metadata": {},
   "outputs": [
    {
     "data": {
      "text/plain": [
       "<matplotlib.image.AxesImage at 0x7f23c4191c18>"
      ]
     },
     "execution_count": 139,
     "metadata": {},
     "output_type": "execute_result"
    },
    {
     "data": {
      "image/png": "[encoded data removed]",
      "text/plain": [
       "<Figure size 504x504 with 1 Axes>"
      ]
     },
     "metadata": {
      "needs_background": "light"
     },
     "output_type": "display_data"
    }
   ],
   "source": [
    "plt.figure(figsize=(512//72,512//72))\n",
    "plt.imshow(newlbl)"
   ]
  },
  {
   "cell_type": "code",
   "execution_count": 140,
   "id": "b7074d0f",
   "metadata": {},
   "outputs": [
    {
     "data": {
      "text/plain": [
       "array([0, 1, 2], dtype=int32)"
      ]
     },
     "execution_count": 140,
     "metadata": {},
     "output_type": "execute_result"
    }
   ],
   "source": [
    "np.unique(newlbl)"
   ]
  },
  {
   "cell_type": "code",
   "execution_count": null,
   "id": "0081157c",
   "metadata": {},
   "outputs": [],
   "source": []
  },
  {
   "cell_type": "code",
   "execution_count": 107,
   "id": "f7d25362",
   "metadata": {},
   "outputs": [
    {
     "data": {
      "text/plain": [
       "(array([1., 2., 3., 6., 7., 3., 2., 3., 2., 2.]),\n",
       " array([ 45. ,  55.4,  65.8,  76.2,  86.6,  97. , 107.4, 117.8, 128.2,\n",
       "        138.6, 149. ]),\n",
       " <BarContainer object of 10 artists>)"
      ]
     },
     "execution_count": 107,
     "metadata": {},
     "output_type": "execute_result"
    },
    {
     "data": {
      "image/png": "[encoded data removed]",
      "text/plain": [
       "<Figure size 432x288 with 1 Axes>"
      ]
     },
     "metadata": {
      "needs_background": "light"
     },
     "output_type": "display_data"
    }
   ],
   "source": [
    "plt.hist(props['area'])\n"
   ]
  },
  {
   "cell_type": "code",
   "execution_count": 29,
   "id": "3f77534b",
   "metadata": {},
   "outputs": [],
   "source": [
    "measure.regionprops?\n"
   ]
  },
  {
   "cell_type": "code",
   "execution_count": null,
   "id": "04e35e47",
   "metadata": {},
   "outputs": [],
   "source": []
  }
 ],
 "metadata": {
  "kernelspec": {
   "display_name": "Python 3",
   "language": "python",
   "name": "python3"
  },
  "language_info": {
   "codemirror_mode": {
    "name": "ipython",
    "version": 3
   },
   "file_extension": ".py",
   "mimetype": "text/x-python",
   "name": "python",
   "nbconvert_exporter": "python",
   "pygments_lexer": "ipython3",
   "version": "3.6.9"
  }
 },
 "nbformat": 4,
 "nbformat_minor": 5
}
